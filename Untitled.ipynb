{
 "cells": [
  {
   "cell_type": "code",
   "execution_count": null,
   "metadata": {},
   "outputs": [],
   "source": [
    "import keras\n",
    "import tensorflow"
   ]
  },
  {
   "cell_type": "code",
   "execution_count": null,
   "metadata": {},
   "outputs": [],
   "source": [
    "\n",
    "help"
   ]
  },
  {
   "cell_type": "code",
   "execution_count": null,
   "metadata": {
    "scrolled": true
   },
   "outputs": [],
   "source": []
  },
  {
   "cell_type": "code",
   "execution_count": null,
   "metadata": {},
   "outputs": [],
   "source": [
    "import pandas\n"
   ]
  },
  {
   "cell_type": "code",
   "execution_count": null,
   "metadata": {},
   "outputs": [],
   "source": [
    "from matplotlib import  pyplot\n",
    "import pandas as pd"
   ]
  },
  {
   "cell_type": "code",
   "execution_count": null,
   "metadata": {},
   "outputs": [],
   "source": [
    "dataset_obj = pd.read_csv(\"dataset_new.csv\")\n",
    "\n",
    "pd.read_csv(\"dataset_new.csv\").head(100)"
   ]
  },
  {
   "cell_type": "code",
   "execution_count": null,
   "metadata": {},
   "outputs": [],
   "source": [
    "[[ 23.89998484   5.90039342   6.100352  ]\n",
    " [  8.20009229  53.80041984  46.19950133]\n",
    " [ 29.19946038  15.69995159  21.99972293]\n",
    " [  3.20026654  64.39974238  35.6002341 ]\n",
    " [ 13.39998447  58.29948072  41.70044121]\n",
    " [ 12.60005504  59.79963378  40.20030376]]\n",
    "\n",
    "This is the percentage score of our model  93.6"
   ]
  },
  {
   "cell_type": "code",
   "execution_count": null,
   "metadata": {},
   "outputs": [],
   "source": [
    "import numpy as np\n",
    "import pandas as pd\n",
    "import matplotlib.pyplot as plt\n",
    "import seaborn as sns\n",
    "import mpl_toolkits\n",
    "%matplotlib inline\n",
    "\n",
    "import matplotlib.pyplot as plt\n",
    "from mpl_toolkits.mplot3d import Axes3D\n",
    "fig = plt.figure(figsize=(5,5))\n",
    "ax = fig.add_subplot(111, projection='3d')\n",
    "\n",
    "ax.plot_wireframe(X=dataset_obj.Year , Y=dataset_obj.unmale, Z=np.array([dataset_obj.unfemale,dataset_obj.Year]))\n",
    "\n",
    "\n",
    "sns.jointplot(x=dataset_obj.unmale, y=dataset_obj.rate, height=10)\n",
    "plt.ylabel('UNEMPLOYMENT MALE', fontsize=10)\n",
    "plt.xlabel('UNEMPLOYMENT FEMALE', fontsize=10)\n",
    "plt.show()\n",
    "sns.despine\n",
    "\n",
    "\n",
    "plt.scatter(dataset_obj.unmale,dataset_obj.unfemale)\n",
    "plt.xlabel(\"UNEMPLOYMENT MALE\", fontsize = 10)\n",
    "plt.ylabel('UNEMPLOYMENT FEMALE', fontsize=10)\n",
    "\n",
    "\n",
    "\n",
    "\n",
    "print(\"BAR CHART OF THE DATA SET (UNEMPLOYMENT OF MALE VERSUS UNEMPLO)\")\n",
    "plt.plot_date(dataset_obj.unmale,dataset_obj.unfemale)\n",
    "\n",
    "\n",
    "\n",
    "#surface plot for the dataset \n",
    "\n",
    "data.head(100)\n",
    "\n"
   ]
  },
  {
   "cell_type": "code",
   "execution_count": null,
   "metadata": {
    "scrolled": true
   },
   "outputs": [],
   "source": [
    "\n",
    "import numpy as np\n",
    "from sklearn.model_selection import train_test_split\n",
    "from sklearn.ensemble  import GradientBoostingRegressor\n",
    "from sklearn.linear_model import LinearRegression\n",
    "from sklearn.multioutput  import MultiOutputRegressor\n",
    "from sklearn.neighbors import KNeighborsRegressor\n",
    "from sklearn.neural_network import MLPClassifier #multilayered perceptron \n",
    "from sklearn.neural_network import MLPRegressor #multilayered perceptron\n",
    "from sklearn.preprocessing import RobustScaler\n",
    "\n",
    "\n",
    "\n",
    "#Data normalisation is here\n",
    "mean = dataset_obj.mean()\n",
    "std = dataset_obj.std() ; \n",
    "dataset_obj_normalised = (dataset_obj - mean) / std\n",
    "\n"
   ]
  },
  {
   "cell_type": "code",
   "execution_count": null,
   "metadata": {
    "scrolled": false
   },
   "outputs": [],
   "source": [
    "import tensorflow as tf"
   ]
  },
  {
   "cell_type": "code",
   "execution_count": null,
   "metadata": {},
   "outputs": [],
   "source": [
    "tf.name_scope(default_name=\"parameter\"):\n",
    "    w = tf.Variable(0.0 , name='weights')\n",
    "    b = tf.Variable(0.0 , name='biases')\n",
    "tf.name_scope(\"inputs\"):\n",
    "    X  = tf.placeholder( tf.float64 , name='input');\n",
    "    Y = tf.placeholder(tf.float64 , name = 'output')\n",
    "tf.name_scope('loss_function')"
   ]
  },
  {
   "cell_type": "code",
   "execution_count": null,
   "metadata": {},
   "outputs": [],
   "source": [
    "from keras import models\n",
    "from keras.layers import Dense, Dropout\n",
    "from keras.utils import to_categorical\n",
    "from keras.datasets import mnist\n",
    "from keras.utils.vis_utils import model_to_dot\n",
    "from IPython.display import SVG\n",
    "\n",
    "%matplotlib inline\n",
    "\n",
    "NUM_ROWS = 28\n",
    "NUM_COLS = 28\n",
    "NUM_CLASSES = 10\n",
    "BATCH_SIZE = 128\n",
    "EPOCHS = 10\n",
    "\n",
    "def data_summary(X_train, y_train, X_test, y_test):\n",
    "    \"\"\"Summarize current state of dataset\"\"\"\n",
    "    print('Train images shape:', X_train.shape)\n",
    "    print('Train labels shape:', y_train.shape)\n",
    "    print('Test images shape:', X_test.shape)\n",
    "    print('Test labels shape:', y_test.shape)\n",
    "    print('Train labels:', y_train)\n",
    "    print('Test labels:', y_test)\n",
    "\n",
    "\n",
    "\"\"\"Load and prepare data\"\"\"\n",
    "\n",
    "# Load data\n",
    "(X_train, y_train), (X_test, y_test) = mnist.load_data()\n",
    "\n",
    "# Check state of dataset\n",
    "data_summary(X_train, y_train, X_test, y_test)\n",
    "\n",
    "# Reshape data\n",
    "X_train = X_train.reshape((X_train.shape[0], NUM_ROWS * NUM_COLS))\n",
    "X_train = X_train.astype('float32') / 255\n",
    "X_test = X_test.reshape((X_test.shape[0], NUM_ROWS * NUM_COLS))\n",
    "X_test = X_test.astype('float32') / 255\n",
    "\n",
    "# Categorically encode labels\n",
    "y_train = to_categorical(y_train, NUM_CLASSES)\n",
    "y_test = to_categorical(y_test, NUM_CLASSES)\n",
    "\n",
    "# Check state of dataset\n",
    "data_summary(X_train, y_train, X_test, y_test)\n",
    "\n",
    "\n",
    "\"\"\"Build and train neural network\"\"\"\n",
    "\n",
    "# Build neural network\n",
    "model = models.Sequential()\n",
    "model.add(Dense(512, activation='relu', input_shape=(NUM_ROWS * NUM_COLS,)))\n",
    "model.add(Dropout(0.5))\n",
    "model.add(Dense(256, activation='relu'))\n",
    "model.add(Dropout(0.25))\n",
    "model.add(Dense(10, activation='softmax'))\n",
    "\n",
    "# Compile model\n",
    "model.compile(optimizer='rmsprop',\n",
    "              loss='categorical_crossentropy',\n",
    "              metrics=['accuracy'])\n",
    "\n",
    "# Train model\n",
    "model.fit(X_train, y_train,\n",
    "          batch_size=BATCH_SIZE,\n",
    "          epochs=EPOCHS,\n",
    "          callbacks=[plot_losses],\n",
    "          verbose=1,\n",
    "          validation_data=(X_test, y_test))\n",
    "\n",
    "score = model.evaluate(X_test, y_test, verbose=0)\n",
    "print('Test loss:', score[0])\n",
    "print('Test accuracy:', score[1])\n",
    "\n",
    "\n",
    "\"\"\"Summarize and visualize the model\"\"\"\n",
    "\n",
    "# Summary of neural network\n",
    "model.summary()\n",
    "\n",
    "# Output network visualization\n",
    "from sklearn.svm import SVC\n",
    "from sklearn.multiclass import OneVsRestClassifier\n",
    "from sklearn.preprocessing import LabelBinarizer\n",
    "\n",
    "X = [[1, 2], [2, 4], [4, 5], [3, 2], [3, 1]]\n",
    "y = [0, 0, 1, 1, 2]\n",
    "\n",
    "classif = OneVsRestClassifier(estimator=SVC(gamma='scale',random_state=0))\n",
    "classif.fit(X, y).predict(X)\n",
    "array([0, 0, 1, 1, 2])SVG(model_to_dot(model).create(prog='dot', format='svg'))"
   ]
  },
  {
   "cell_type": "code",
   "execution_count": null,
   "metadata": {},
   "outputs": [],
   "source": [
    "\n",
    "\n",
    "# Output network visualization\n",
    "from sklearn.svm import SVC\n",
    "from sklearn.multiclass import OneVsRestClassifier\n",
    "from sklearn.preprocessing import LabelBinarizer , MultiLabelBinarizer,StandardScaler\n",
    "from sklearn.model_selection  import train_test_split\n",
    "from sklearn.ensemble import GradientBoostingRegressor, GradientBoostingClassifier\n",
    "from sklearn.multioutput import MultiOutputRegressor\n",
    "from sklearn.linear_model import LinearRegression\n",
    "from keras import Sequential\n",
    "from sklearn import neural_network\n",
    "#from keras.layers.in\n",
    "\n",
    "data = pd.read_csv(\"dataset_new.csv\")\n",
    "\n",
    "x = data.Year\n",
    "print(x)\n",
    "\n",
    "\n",
    "\n",
    "\n",
    "\n",
    "y =data.drop(['Year'] , axis=1)\n",
    "\n",
    "y.values\n",
    "\n",
    "\n",
    "#print(y.values.reshape(20,3))\n",
    "\n",
    "\n",
    "\n",
    "x_train , x_test , y_train , y_test = train_test_split (x,y,test_size = 0.30, random_state =42)\n",
    "\n",
    "classif = OneVsRestClassifier(estimator=SVC(gamma='scale',random_state=0))\n",
    "\n",
    "\n",
    "\n",
    "\n",
    "#y = MultiLabelBinarizer().fit_transform(y)\n",
    "#classif.fit(x.values.reshape(20,1) , y)\n",
    "\n",
    "\n",
    "\n",
    "params = {'n_estimators': 1000, 'max_depth': 8, 'min_samples_split': 2,\n",
    "          'learning_rate': 0.01, 'loss': 'ls'}\n",
    "\n",
    "#using gradient boosting resgressor to predict the rate, unmale, unfemale in Nigeria\n",
    "dd = GradientBoostingRegressor(verbose=1, **params)\n",
    "cd = MultiOutputRegressor(dd) ; \n",
    "#training the machine on the training dataset  \n",
    "history     = cd.fit(x_train.values.reshape(14,1), y_train)\n",
    "\n",
    "\n",
    "\n",
    "\n",
    "\n",
    "#predicted = cd.predict(x.values.reshape(20,1))\n",
    "\n",
    "\n",
    "predicted = cd.predict([[2020],[2005],[2007],[2030],[2050]])\n",
    "\n",
    "\n",
    "print(\"PREDICTION == \" , predicted)\n",
    "\n",
    "\n",
    "\n",
    "#model  = Sequential()\n",
    "#model.add(Dense(32, input_shape=(16,)))\n",
    "\n",
    "\n",
    "print(y.values[:,1])\n",
    "\n",
    "print(cd.get_params())\n",
    "\n",
    "\n"
   ]
  },
  {
   "cell_type": "code",
   "execution_count": null,
   "metadata": {},
   "outputs": [],
   "source": [
    "print(\"hello\")"
   ]
  },
  {
   "cell_type": "code",
   "execution_count": null,
   "metadata": {},
   "outputs": [],
   "source": [
    "history.n_jobs"
   ]
  },
  {
   "cell_type": "code",
   "execution_count": null,
   "metadata": {},
   "outputs": [],
   "source": [
    "history.score"
   ]
  },
  {
   "cell_type": "code",
   "execution_count": null,
   "metadata": {},
   "outputs": [],
   "source": [
    "from sklearn.neural_network import MLPRegressor\n",
    "clf = MLPRegressor(solver='lbfgs', alpha=1e-5,\n",
    "                   hidden_layer_sizes=(5, 2), random_state=1)\n",
    "clf.fit(x.values.reshape(20,1),y)\n",
    "\n",
    "print(y.values[0:1])\n"
   ]
  },
  {
   "cell_type": "code",
   "execution_count": null,
   "metadata": {},
   "outputs": [],
   "source": [
    "clf.hidden_layer_sizes\n"
   ]
  },
  {
   "cell_type": "code",
   "execution_count": null,
   "metadata": {
    "scrolled": true
   },
   "outputs": [],
   "source": [
    "plt.figure(figsize = (18,9))\n",
    "plt.plot(range(dataset_obj.shape[0]),(dataset_obj['Year']+dataset_obj['rate'])/2.0)\n",
    "plt.xticks(range(0,dataset_obj.shape[0],500),dataset_obj['Year'],rotation=45)\n",
    "plt.xlabel('Year',fontsize=18)\n",
    "plt.ylabel('Rate Of Unemployment',fontsize=10)\n"
   ]
  },
  {
   "cell_type": "code",
   "execution_count": null,
   "metadata": {},
   "outputs": [],
   "source": [
    "history.activation"
   ]
  },
  {
   "cell_type": "code",
   "execution_count": null,
   "metadata": {},
   "outputs": [],
   "source": [
    "history.batch_size"
   ]
  },
  {
   "cell_type": "code",
   "execution_count": null,
   "metadata": {},
   "outputs": [],
   "source": [
    "history.fit    "
   ]
  },
  {
   "cell_type": "code",
   "execution_count": null,
   "metadata": {},
   "outputs": [],
   "source": [
    "history.hidden_layer_sizes"
   ]
  },
  {
   "cell_type": "code",
   "execution_count": null,
   "metadata": {},
   "outputs": [],
   "source": []
  },
  {
   "cell_type": "code",
   "execution_count": null,
   "metadata": {},
   "outputs": [],
   "source": []
  }
 ],
 "metadata": {
  "kernelspec": {
   "display_name": "Python 3",
   "language": "python",
   "name": "python3"
  },
  "language_info": {
   "codemirror_mode": {
    "name": "ipython",
    "version": 3
   },
   "file_extension": ".py",
   "mimetype": "text/x-python",
   "name": "python",
   "nbconvert_exporter": "python",
   "pygments_lexer": "ipython3",
   "version": "3.6.5rc1"
  }
 },
 "nbformat": 4,
 "nbformat_minor": 2
}
